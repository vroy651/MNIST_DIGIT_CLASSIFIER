{
 "cells": [
  {
   "cell_type": "code",
   "execution_count": 2,
   "metadata": {},
   "outputs": [],
   "source": [
    "# minist digit recoginition\n",
    "import torch\n",
    "import torch.nn as nn\n",
    "import torch.optim as optim\n",
    "import torchvision\n",
    "from torch.utils.data import DataLoader\n",
    "import matplotlib.pyplot as plt"
   ]
  },
  {
   "cell_type": "code",
   "execution_count": 3,
   "metadata": {},
   "outputs": [],
   "source": [
    "# load mnist hand written dataset\n",
    "\n",
    "#transform data\n",
    "transform=torchvision.transforms.Compose([\n",
    "    torchvision.transforms.ToTensor(),\n",
    "    torchvision.transforms.Normalize((0,),(128,)),\n",
    "])\n",
    "train=torchvision.datasets.MNIST(root='data',train=True,download=True,transform=transform)\n",
    "test=torchvision.datasets.MNIST(root='data',train=False,download=True,transform=transform)\n"
   ]
  },
  {
   "cell_type": "code",
   "execution_count": 4,
   "metadata": {},
   "outputs": [],
   "source": [
    "# batch the dataset\n",
    "train_loader=DataLoader(train,shuffle=True,batch_size=100)\n",
    "test_loader=DataLoader(test,shuffle=False,batch_size=100)\n"
   ]
  },
  {
   "cell_type": "code",
   "execution_count": 5,
   "metadata": {},
   "outputs": [
    {
     "data": {
      "image/png": "[encoded data removed]",
      "text/plain": [
       "<Figure size 1000x500 with 10 Axes>"
      ]
     },
     "metadata": {},
     "output_type": "display_data"
    }
   ],
   "source": [
    "# Create a figure and axes\n",
    "fig, axes = plt.subplots(2, 5, figsize=(10, 5))\n",
    "\n",
    "# Plot some images\n",
    "for i, ax in enumerate(axes.flat):\n",
    "    image, label = train[i]\n",
    "    image = image[0]  # Since MNIST images are single-channel (grayscale)\n",
    "    ax.imshow(image, cmap='gray')\n",
    "    ax.set_title(f\"Label: {label}\")\n",
    "    ax.axis('off')\n",
    "\n",
    "plt.tight_layout()\n",
    "plt.show()"
   ]
  },
  {
   "cell_type": "code",
   "execution_count": 7,
   "metadata": {},
   "outputs": [],
   "source": [
    "# define model\n",
    "class CNN(nn.Module):\n",
    "  def __init__(self):\n",
    "    super().__init__()\n",
    "    #layer 1\n",
    "    self.conv1=nn.Conv2d(1,6,kernel_size=5,stride=1,padding=2)\n",
    "    self.act1=nn.Tanh()\n",
    "    self.pooling1=nn.AvgPool2d(kernel_size=2,stride=2)\n",
    "\n",
    "    #layer2\n",
    "    self.conv2=nn.Conv2d(6,16,kernel_size=5,stride=1,padding=0)\n",
    "    self.act2=nn.Tanh()\n",
    "    self.pooling2=nn.AvgPool2d(kernel_size=2,stride=2)\n",
    "\n",
    "    #leyer3\n",
    "    self.conv3=nn.Conv2d(16,120,kernel_size=5,stride=1,padding=0)\n",
    "    self.act3=nn.Tanh()\n",
    "\n",
    "    #flatten the feature map\n",
    "\n",
    "    self.flat=nn.Flatten()\n",
    "    #linear layer\n",
    "    self.linear1=nn.Linear(1*1*120,84)\n",
    "    self.act4=nn.Tanh()\n",
    "    self.linear2=nn.Linear(84,10)\n",
    "\n",
    "  # forward pass\n",
    "  def forward(self,input):\n",
    "\n",
    "    #input->1*128*128,output->6*128*128\n",
    "    input=self.act1(self.conv1(input))\n",
    "\n",
    "    # averagepooling, input->6*128*128,output->6*14*14\n",
    "    input=self.pooling1(input)\n",
    "\n",
    "    #input->6*14*14,output->16*10*10\n",
    "    input=self.act2(self.conv2(input))\n",
    "\n",
    "    #averagepooling, input->16*10*10,output->16*5*5\n",
    "    input=self.pooling2(input)\n",
    "\n",
    "    #input->16*5*5,output->120*1*1\n",
    "    input=self.act3(self.conv3(input))\n",
    "\n",
    "    # linear layer1 ,input ->120*1*1,output->85\n",
    "    input=self.act4(self.linear1(self.flat(input)))\n",
    "\n",
    "    #linear layer2 ,input->85,output->10\n",
    "    input =self.linear2(input)\n",
    "\n",
    "    return input"
   ]
  },
  {
   "cell_type": "code",
   "execution_count": 11,
   "metadata": {},
   "outputs": [
    {
     "name": "stdout",
     "output_type": "stream",
     "text": [
      "name conv1.weight parameterstorch.Size([6, 1, 5, 5])\n",
      "name conv1.bias parameterstorch.Size([6])\n",
      "name conv2.weight parameterstorch.Size([16, 6, 5, 5])\n",
      "name conv2.bias parameterstorch.Size([16])\n",
      "name conv3.weight parameterstorch.Size([120, 16, 5, 5])\n",
      "name conv3.bias parameterstorch.Size([120])\n",
      "name linear1.weight parameterstorch.Size([84, 120])\n",
      "name linear1.bias parameterstorch.Size([84])\n",
      "name linear2.weight parameterstorch.Size([10, 84])\n",
      "name linear2.bias parameterstorch.Size([10])\n"
     ]
    }
   ],
   "source": [
    "# model,object of CNN class \n",
    "model=CNN()\n",
    "# model.forward()\n",
    "# print(list(model.parameters()))\n",
    "for name,params in model.named_parameters():\n",
    "  print(f\"name {name} parameters{params.shape}\")\n",
    "\n",
    "\n",
    "#optimizer ,to optimize the learnable parapemters\n",
    "optimizer=optim.Adam(model.parameters(),lr=0.01)\n",
    "\n",
    "#objective function to caulculate the loss b/w predicted output and actual label\n",
    "Loss=nn.CrossEntropyLoss()\n",
    "# number of times model get train\n",
    "epochs=10"
   ]
  },
  {
   "cell_type": "code",
   "execution_count": 12,
   "metadata": {},
   "outputs": [
    {
     "name": "stdout",
     "output_type": "stream",
     "text": [
      "epoch :0| accuracy:94.13 | loss:0.09\n",
      "epoch :1| accuracy:94.73 | loss:0.02\n",
      "epoch :2| accuracy:95.09 | loss:0.20\n",
      "epoch :3| accuracy:95.89 | loss:0.23\n",
      "epoch :4| accuracy:95.77 | loss:0.16\n",
      "epoch :5| accuracy:94.49 | loss:0.10\n",
      "epoch :6| accuracy:94.86 | loss:0.27\n",
      "epoch :7| accuracy:95.58 | loss:0.11\n",
      "epoch :8| accuracy:95.08 | loss:0.27\n",
      "epoch :9| accuracy:94.96 | loss:0.25\n"
     ]
    }
   ],
   "source": [
    "#train the model\n",
    "\n",
    "#training Loop\n",
    "for epoch in range(epochs):\n",
    "    # this will intialize the model's parameters and indicate that model is training mode\n",
    "    model.train()\n",
    "\n",
    "    # number of example of in batch ,it updates parameters on small batch of example rather than on whole examaples\n",
    "    for X_train,y_train in train_loader:\n",
    "\n",
    "      # predicted value of model \n",
    "      y_pred=model(X_train)\n",
    "\n",
    "      # caculate loss between predicted value and actual value\n",
    "      loss=Loss(y_pred,y_train)\n",
    "\n",
    "      # to prevent the gradient of parameters to being accumulated of gradients\n",
    "      optimizer.zero_grad()\n",
    "\n",
    "      # this calculate gradient of parameters wrt to loss using backpropagation algorithm\n",
    "      loss.backward()\n",
    "\n",
    "      # updates the weight along thr direction of reducing  loss \n",
    "      optimizer.step()\n",
    "\n",
    "    ## validation mode is on in this mode gradient of parameters will not change,also dropout the connections if needed\n",
    "    model.eval()\n",
    "\n",
    "    # to store the accuracy of model\n",
    "    accuracy=0\n",
    "\n",
    "    # number of test examples\n",
    "    count=0\n",
    "\n",
    "    # dataloader to bind the X_test and y_test\n",
    "    for X_test,y_test in test_loader:\n",
    "\n",
    "      # predict the value on given test data\n",
    "      y_pred=model(X_test)\n",
    "\n",
    "      # calculate accuracy of model\n",
    "      accuracy+=(torch.argmax(y_pred,1)==y_test).float().sum()\n",
    "      count+=len(y_test)\n",
    "\n",
    "    accuracy=accuracy/count # accuracy of model on test dataset\n",
    "\n",
    "    print(f\"epoch :{epoch}| accuracy:{accuracy*100:.2f} | loss:{loss :.2f}\")\n",
    "\n",
    "\n",
    "\n"
   ]
  },
  {
   "cell_type": "code",
   "execution_count": 13,
   "metadata": {},
   "outputs": [],
   "source": [
    "# save the model\n",
    "torch.save(model.state_dict(), \"model.pth\")"
   ]
  },
  {
   "cell_type": "code",
   "execution_count": 23,
   "metadata": {},
   "outputs": [],
   "source": [
    "loaded_model=CNN()"
   ]
  },
  {
   "cell_type": "code",
   "execution_count": 24,
   "metadata": {},
   "outputs": [
    {
     "data": {
      "text/plain": [
       "CNN(\n",
       "  (conv1): Conv2d(1, 6, kernel_size=(5, 5), stride=(1, 1), padding=(2, 2))\n",
       "  (act1): Tanh()\n",
       "  (pooling1): AvgPool2d(kernel_size=2, stride=2, padding=0)\n",
       "  (conv2): Conv2d(6, 16, kernel_size=(5, 5), stride=(1, 1))\n",
       "  (act2): Tanh()\n",
       "  (pooling2): AvgPool2d(kernel_size=2, stride=2, padding=0)\n",
       "  (conv3): Conv2d(16, 120, kernel_size=(5, 5), stride=(1, 1))\n",
       "  (act3): Tanh()\n",
       "  (flat): Flatten(start_dim=1, end_dim=-1)\n",
       "  (linear1): Linear(in_features=120, out_features=84, bias=True)\n",
       "  (act4): Tanh()\n",
       "  (linear2): Linear(in_features=84, out_features=10, bias=True)\n",
       ")"
      ]
     },
     "execution_count": 24,
     "metadata": {},
     "output_type": "execute_result"
    }
   ],
   "source": [
    "# testing on new iamges\n",
    "import cv2\n",
    "\n",
    "# load the model\n",
    "loaded_model.load_state_dict(torch.load('/Users/vishalroy/MNIST_DIGIT_CLASSIFIER/model.pth'))\n",
    "loaded_model.eval()"
   ]
  },
  {
   "cell_type": "code",
   "execution_count": 16,
   "metadata": {},
   "outputs": [],
   "source": [
    "# preproccsing image before evaluating\n",
    "def process(img_path):\n",
    "  img=cv2.imread(img_path,cv2.IMREAD_GRAYSCALE)\n",
    "\n",
    "  #resize the image to 28*28\n",
    "  img=cv2.resize(img,(28,28))\n",
    "  # # normalize the iamge\n",
    "\n",
    "  # #add batch dimension\n",
    "  # img=img.reshape(1,28,28,1)\n",
    "  return img"
   ]
  },
  {
   "cell_type": "code",
   "execution_count": 17,
   "metadata": {},
   "outputs": [],
   "source": [
    "# test the model\n",
    "test_img=process('/Users/vishalroy/MNIST_DIGIT_CLASSIFIER/images/img_41790.jpg')\n",
    "\n",
    "transform = torchvision.transforms.Compose([\n",
    "    torchvision.transforms.ToTensor(),\n",
    "    torchvision.transforms.Normalize((0,), (128,))\n",
    "])"
   ]
  },
  {
   "cell_type": "code",
   "execution_count": 18,
   "metadata": {},
   "outputs": [],
   "source": [
    "#tranform new images into required format\n",
    "test_img=transform(test_img)"
   ]
  },
  {
   "cell_type": "code",
   "execution_count": 19,
   "metadata": {},
   "outputs": [
    {
     "data": {
      "text/plain": [
       "torch.Size([1, 1, 28, 28])"
      ]
     },
     "execution_count": 19,
     "metadata": {},
     "output_type": "execute_result"
    }
   ],
   "source": [
    "# add batch dimension\n",
    "test_img.unsqueeze(0).shape"
   ]
  },
  {
   "cell_type": "code",
   "execution_count": 20,
   "metadata": {},
   "outputs": [],
   "source": [
    "# predict the number \n",
    "model.eval()\n",
    "\n",
    "with torch.no_grad():\n",
    "  prediction=model(test_img.unsqueeze(0))\n",
    "\n",
    "predicted_class = torch.argmax(prediction, dim=1).item()"
   ]
  },
  {
   "cell_type": "code",
   "execution_count": 21,
   "metadata": {},
   "outputs": [
    {
     "name": "stdout",
     "output_type": "stream",
     "text": [
      "predicted number :0\n"
     ]
    }
   ],
   "source": [
    "print(f\"predicted number :{predicted_class}\")"
   ]
  }
 ],
 "metadata": {
  "kernelspec": {
   "display_name": "base",
   "language": "python",
   "name": "python3"
  },
  "language_info": {
   "codemirror_mode": {
    "name": "ipython",
    "version": 3
   },
   "file_extension": ".py",
   "mimetype": "text/x-python",
   "name": "python",
   "nbconvert_exporter": "python",
   "pygments_lexer": "ipython3",
   "version": "3.11.4"
  },
  "orig_nbformat": 4
 },
 "nbformat": 4,
 "nbformat_minor": 2
}
